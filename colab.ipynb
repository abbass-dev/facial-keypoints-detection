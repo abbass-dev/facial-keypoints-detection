{
  "cells": [
    {
      "cell_type": "code",
      "execution_count": 1,
      "metadata": {
        "id": "8tFJolRei-eV"
      },
      "outputs": [],
      "source": [
        "%load_ext autoreload\n",
        "%autoreload 2"
      ]
    },
    {
      "cell_type": "code",
      "execution_count": 2,
      "metadata": {
        "colab": {
          "base_uri": "https://localhost:8080/"
        },
        "id": "BKFI4hsni-eZ",
        "outputId": "4ec52c0d-a0d2-43d7-e44e-063564346923"
      },
      "outputs": [
        {
          "output_type": "stream",
          "name": "stdout",
          "text": [
            "Mounted at /content/drive\n",
            "['facial-keypoints-detection.zip', 'model.py', 'validate.py', '__pycache__', 'datasets', 'utils', 'data', 'config.json', 'train.py', 'main.ipynb']\n"
          ]
        }
      ],
      "source": [
        "from google.colab import drive\n",
        "import os\n",
        "import sys\n",
        "drive.mount('/content/drive')\n",
        "path2folder = os.path.join('drive','MyDrive','KeyPoint')\n",
        "print(os.listdir(path2folder))\n",
        "sys.path.append(path2folder)\n"
      ]
    },
    {
      "cell_type": "code",
      "source": [
        "!rm -r '/content/data'\n",
        "!unzip \"/content/drive/MyDrive/KeyPoint/facial-keypoints-detection.zip\" -d '/content/data'\n",
        "!unzip '/content/data/*.zip' -d \"/content/data\""
      ],
      "metadata": {
        "colab": {
          "base_uri": "https://localhost:8080/"
        },
        "id": "Lxj0fE5LkI81",
        "outputId": "b552d4b2-ad64-4880-d425-094ad85a417b"
      },
      "execution_count": 5,
      "outputs": [
        {
          "output_type": "stream",
          "name": "stdout",
          "text": [
            "rm: cannot remove '/content/data': No such file or directory\n",
            "Archive:  /content/drive/MyDrive/KeyPoint/facial-keypoints-detection.zip\n",
            "  inflating: /content/data/IdLookupTable.csv  \n",
            "  inflating: /content/data/SampleSubmission.csv  \n",
            "  inflating: /content/data/test.zip  \n",
            "  inflating: /content/data/training.zip  \n",
            "Archive:  /content/data/training.zip\n",
            "  inflating: /content/data/training.csv  \n",
            "\n",
            "Archive:  /content/data/test.zip\n",
            "  inflating: /content/data/test.csv  \n",
            "\n",
            "2 archives were successfully processed.\n"
          ]
        }
      ]
    },
    {
      "cell_type": "code",
      "source": [
        "import torch\n",
        "device = \"cuda\" if torch.cuda.is_available() else \"cpu\"\n",
        "print(device)"
      ],
      "metadata": {
        "colab": {
          "base_uri": "https://localhost:8080/"
        },
        "id": "kGlCKYKpmvkt",
        "outputId": "78d1ead6-dda6-443e-8ffc-738e4ec44d6b"
      },
      "execution_count": 3,
      "outputs": [
        {
          "output_type": "stream",
          "name": "stdout",
          "text": [
            "cuda\n"
          ]
        }
      ]
    },
    {
      "cell_type": "code",
      "source": [
        "from datasets import create_dataset\n",
        "from utils import parse_configuration\n",
        "params = parse_configuration('/content/drive/MyDrive/KeyPoint/config.json')\n",
        "train_ds,val_ds = create_dataset(**params['train_dataset_params'])\n"
      ],
      "metadata": {
        "id": "_XWAuPY2kvjS"
      },
      "execution_count": 12,
      "outputs": []
    },
    {
      "cell_type": "code",
      "source": [
        "from train import Trainer\n",
        "from model import FaceNet\n",
        "model = FaceNet(15).double().to(device)\n",
        "trainer = Trainer(model,train_ds,val_ds,device,**params['train_params'])\n",
        "loss_history = trainer.train()"
      ],
      "metadata": {
        "colab": {
          "base_uri": "https://localhost:8080/"
        },
        "id": "BkU5FM33mQmJ",
        "outputId": "22386b7f-56b3-4f75-e216-2490fbf41ff3"
      },
      "execution_count": 13,
      "outputs": [
        {
          "output_type": "stream",
          "name": "stdout",
          "text": [
            "start training\n",
            "epoch number = 0\n",
            "loss = 8.928767664136203\n",
            "epoch number = 1\n",
            "loss = 21.0488331833974\n",
            "epoch number = 2\n",
            "loss = 5.572759727514327\n",
            "epoch number = 3\n",
            "loss = 12.49390252788531\n",
            "epoch number = 4\n",
            "loss = 6.091349984690116\n",
            "epoch number = 5\n",
            "loss = 9.519957505253519\n",
            "epoch number = 6\n",
            "loss = 6.841071857408826\n",
            "epoch number = 7\n",
            "loss = 6.522919079753397\n",
            "epoch number = 8\n",
            "loss = 4.375525953457899\n",
            "epoch number = 9\n",
            "loss = 2.7056543411814995\n",
            "epoch number = 10\n",
            "loss = 2.5850390243282364\n",
            "epoch number = 11\n",
            "loss = 2.249898839463379\n",
            "epoch number = 12\n",
            "loss = 2.673153941945291\n",
            "epoch number = 13\n",
            "loss = 8.203558533729499\n",
            "epoch number = 14\n",
            "loss = 5.069377928757268\n",
            "epoch number = 15\n",
            "loss = 1.5904601450128337\n",
            "epoch number = 16\n",
            "loss = 1.5418347070568919\n",
            "epoch number = 17\n",
            "loss = 4.270243662807855\n",
            "epoch number = 18\n",
            "loss = 1.851913541913609\n",
            "epoch number = 19\n",
            "loss = 1.993493245832794\n",
            "epoch number = 20\n",
            "loss = 0.6592957640749703\n",
            "epoch number = 21\n",
            "loss = 3.5587258217059943\n",
            "epoch number = 22\n",
            "loss = 7.181181889706089\n",
            "epoch number = 23\n",
            "loss = 1.1563635810448605\n",
            "epoch number = 24\n",
            "loss = 0.9113253194845441\n",
            "epoch number = 25\n",
            "loss = 0.9423082482021006\n",
            "epoch number = 26\n",
            "loss = 0.8786005388074167\n",
            "epoch number = 27\n",
            "loss = 2.7752600078304845\n",
            "epoch number = 28\n",
            "loss = 1.0818295572473373\n",
            "epoch number = 29\n",
            "loss = 0.6943688734333459\n"
          ]
        }
      ]
    },
    {
      "cell_type": "code",
      "source": [
        "from google.colab import files\n",
        "files.download( \"./model.pt\")"
      ],
      "metadata": {
        "id": "45johGORmQeL"
      },
      "execution_count": null,
      "outputs": []
    },
    {
      "cell_type": "code",
      "source": [
        "!cp -r './model.pt' /content/drive/MyDrive/\n"
      ],
      "metadata": {
        "id": "b41L8-5kyMhl"
      },
      "execution_count": 20,
      "outputs": []
    }
  ],
  "metadata": {
    "interpreter": {
      "hash": "aee8b7b246df8f9039afb4144a1f6fd8d2ca17a180786b69acc140d282b71a49"
    },
    "kernelspec": {
      "display_name": "Python 3.9.0 64-bit",
      "language": "python",
      "name": "python3"
    },
    "language_info": {
      "codemirror_mode": {
        "name": "ipython",
        "version": 3
      },
      "file_extension": ".py",
      "mimetype": "text/x-python",
      "name": "python",
      "nbconvert_exporter": "python",
      "pygments_lexer": "ipython3",
      "version": "3.9.0"
    },
    "orig_nbformat": 4,
    "colab": {
      "name": "main.ipynb",
      "provenance": [],
      "collapsed_sections": []
    },
    "accelerator": "GPU"
  },
  "nbformat": 4,
  "nbformat_minor": 0
}